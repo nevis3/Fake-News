{
 "cells": [
  {
   "cell_type": "code",
   "execution_count": 17,
   "metadata": {
    "collapsed": true
   },
   "outputs": [],
   "source": [
    "import pandas as pd\n",
    "import re\n",
    "from nltk.tokenize import word_tokenize\n",
    "from nltk.corpus import stopwords\n",
    "from nltk.stem import PorterStemmer\n",
    "from cleantext import clean\n",
    "import matplotlib.pyplot as plt\n",
    "from sklearn.feature_extraction.text import TfidfVectorizer\n",
    "from sklearn.linear_model import LogisticRegression, SGDClassifier,  PassiveAggressiveClassifier\n",
    "from sklearn.preprocessing import LabelEncoder\n",
    "import operator\n",
    "from sklearn.model_selection import train_test_split\n",
    "from sklearn.tree import DecisionTreeClassifier\n",
    "from sklearn.metrics import accuracy_score, mean_squared_error, f1_score\n",
    "from sklearn.naive_bayes import MultinomialNB, BernoulliNB\n",
    "from sklearn.svm import LinearSVC\n",
    "from sklearn import metrics"
   ]
  },
  {
   "cell_type": "code",
   "execution_count": 2,
   "metadata": {
    "collapsed": false
   },
   "outputs": [
    {
     "name": "stdout",
     "output_type": "stream",
     "text": [
      "Content without empty content: 1430252\n",
      "Content without Nan and unknown types: 1377086\n",
      "Content without duplicate contents: 932256\n"
     ]
    }
   ],
   "source": [
    "#Loading the FakeNewsCorpus into a pandas dataframe with 1.6 million rows ~ 3gb\n",
    "df = pd.read_csv('news_cleaned_2018_02_13.csv', encoding='utf8', nrows=1_600_000, dtype={'content':'string', 'type':'string'}, usecols=['content', 'type'], lineterminator='\\n', skip_blank_lines=True)\n",
    "\n",
    "#Remove all empty rows from 'content' field\n",
    "df = df.dropna(subset=['content'])\n",
    "df = df.dropna(subset=['type'])\n",
    "print(\"Content without empty content:\", len(df.index))\n",
    "\n",
    "#Remove both nan and unknown types\n",
    "df = df[~df['type'].isin(['nan', 'unknown'])]\n",
    "print(\"Content without Nan and unknown types:\", len(df.index))\n",
    "\n",
    "#Remove duplicate rows from 'content' field\n",
    "df = df.drop_duplicates(subset=['content'])\n",
    "print(\"Content without duplicate contents:\", len(df.index))\n",
    "\n",
    "#Save result in csv file named 'content_type_data'\n",
    "df.to_csv('content_type_data.csv', columns=['content', 'type'])"
   ]
  },
  {
   "cell_type": "code",
   "execution_count": 2,
   "metadata": {
    "collapsed": false
   },
   "outputs": [],
   "source": [
    "#Cleantext method, which utilises the clean method from cleantext as well as regex\n",
    "def clean_data(input_text):\n",
    "    cleaned_text = re.sub(r'(\\S+\\.com*\\S+)', '<url>', input_text)\n",
    "    cleaned_text = re.sub(r'(\\S+\\.net*\\S+)', '<url>', cleaned_text)\n",
    "    cleaned_text = re.sub(r'\\-', ' ', cleaned_text)\n",
    "    cleaned_text = re.sub(r'\\|', ' ', cleaned_text)\n",
    "    cleaned_text = clean(cleaned_text,  # does not remove special characters such as < , ^ etc.\n",
    "        normalize_whitespace=True,\n",
    "        fix_unicode=True,  # fix various unicode errors\n",
    "        to_ascii=True,  # transliterate to closest ASCII representation\n",
    "        lower=True,  # lowercase text\n",
    "        no_line_breaks=True,  # fully strip line breaks as opposed to only normalizing them\n",
    "        no_urls=True,  # replace all URLs with a special token\n",
    "        no_emails=True,  # replace all email addresses with a special token\n",
    "        no_phone_numbers=True,  # replace all phone numbers with a special token\n",
    "        no_numbers=True,  # replace all numbers with a special token\n",
    "        no_digits=True,  # replace all digits with a special token\n",
    "        no_currency_symbols=True,  # replace all currency symbols with a special token\n",
    "        no_punct=True,  # remove punctuations\n",
    "        no_emoji=True,\n",
    "        replace_with_punct=\"\",  # instead of removing punctuations you may replace them\n",
    "        replace_with_url=\"<URL>\",\n",
    "        replace_with_email=\"<EMAIL>\",\n",
    "        replace_with_phone_number=\"<PHONE>\",\n",
    "        replace_with_number=\"<NUMBER>\",\n",
    "        replace_with_digit=\"<DIGIT>\",\n",
    "        replace_with_currency_symbol=\"<CUR>\",\n",
    "        lang=\"en\")\n",
    "\n",
    "    return cleaned_text"
   ]
  },
  {
   "cell_type": "code",
   "execution_count": 3,
   "metadata": {
    "collapsed": false
   },
   "outputs": [],
   "source": [
    "#Reload the 'content_type_data' csv file into a pandas dataframe again\n",
    "df = pd.read_csv('content_type_data.csv', encoding='utf8', dtype={'content':'string', 'type':'string'})\n",
    "data_size = len(df.index)\n",
    "pd.DataFrame(columns=['content', 'type']).to_csv(\"cleaned_text.csv\")\n",
    "\n",
    "#Cleans all the articles, and appends it to a new csv file 'cleaned_text'\n",
    "for i in range(0, data_size):\n",
    "    content_result = clean_data(df.iloc[i]['content'])\n",
    "    type_result = df.iloc[i]['type']\n",
    "\n",
    "    result = {'content':content_result, 'type':type_result}\n",
    "    new_data = pd.DataFrame(result, index=[i])\n",
    "    new_data.to_csv('cleaned_text.csv', mode='a', header=False)"
   ]
  },
  {
   "cell_type": "code",
   "execution_count": 4,
   "outputs": [],
   "source": [
    "#Load the 'cleaned_text' csv file into pandas dataframe, and replace the types to either fake or reliable\n",
    "df_cleaned = pd.read_csv('cleaned_text.csv', encoding='utf8', dtype={'content':'string', 'type':'string'}).dropna(subset=['content'])\n",
    "df_cleaned['type'] = df_cleaned['type'].replace(['unreliable', 'bias', 'junksci', 'conspiracy', 'hate', 'rumor', 'satire', 'state'], 'fake')\n",
    "df_cleaned['type'] = df_cleaned['type'].replace(['political', 'clickbait'], 'reliable')\n",
    "df_cleaned.columns = df_cleaned.columns.str.strip() #Removes unecessary \\r from 'type' column\n",
    "df_cleaned['type'] = df_cleaned['type'].replace('\\r', '', regex=True) #Remove unecessary \\r from types\n",
    "df_cleaned.to_csv('cleaned_changed_types.csv', columns=['content', 'type'])"
   ],
   "metadata": {
    "collapsed": false
   }
  },
  {
   "cell_type": "code",
   "execution_count": 2,
   "metadata": {
    "collapsed": false
   },
   "outputs": [],
   "source": [
    "#Method to remove placeholder words using regex\n",
    "def remove_placeholder_words(input_text):\n",
    "    cleaned_text = re.sub(r'\\<\\w+\\>', ' ', input_text)\n",
    "    cleaned_text = re.sub(' +', ' ', cleaned_text)\n",
    "\n",
    "    return cleaned_text"
   ]
  },
  {
   "cell_type": "code",
   "execution_count": 5,
   "metadata": {
    "collapsed": false
   },
   "outputs": [],
   "source": [
    "#Reload the 'cleaned_changed_types' csv file into a pandas dataframe again\n",
    "df = pd.read_csv('cleaned_changed_types.csv', encoding='utf8', dtype={'content':'string', 'type':'string'})\n",
    "data_size = len(df.index)\n",
    "pd.DataFrame(columns=['content', 'type']).to_csv(\"cleaned_removed_placeholder.csv\")\n",
    "\n",
    "#Removes all the placeholder words, and appends it to a new csv file 'cleaned_removed_placeholder'\n",
    "for i in range(0,data_size):\n",
    "    content_result = remove_placeholder_words(df.iloc[i]['content'])\n",
    "    type_result = df.iloc[i]['type']\n",
    "\n",
    "    result = {'content':content_result, 'type':type_result}\n",
    "    new_data = pd.DataFrame(result, index=[i])\n",
    "    new_data.to_csv('cleaned_removed_placeholder.csv', mode='a', header=False)"
   ]
  },
  {
   "cell_type": "code",
   "execution_count": null,
   "metadata": {
    "collapsed": false,
    "pycharm": {
     "is_executing": true
    }
   },
   "outputs": [],
   "source": [
    "#Drops duplicates and \\r from columns and types\n",
    "df = pd.read_csv('cleaned_removed_placeholder.csv', encoding='utf8', dtype={'content':'string', 'type':'string'}).dropna(subset=['content'])\n",
    "df.columns = df.columns.str.strip() #Removes unecessary \\r from 'type' column\n",
    "df['type'] = df['type'].replace('\\r', '', regex=True) #Remove unecessary \\r from types\n",
    "df.to_csv('cleaned_removed_placeholder.csv', columns=['content', 'type'])"
   ]
  },
  {
   "cell_type": "code",
   "execution_count": 2,
   "metadata": {
    "collapsed": false
   },
   "outputs": [],
   "source": [
    "#Method to remove stop words\n",
    "def remove_stop_words(input_text):\n",
    "    stop_words = set(stopwords.words('english'))\n",
    "    filtered_sentence = []\n",
    "    cleaned_text = word_tokenize(input_text)\n",
    "\n",
    "    for w in cleaned_text:\n",
    "        if w not in stop_words:\n",
    "            filtered_sentence.append(w)\n",
    "\n",
    "    return ' '.join(filtered_sentence)"
   ]
  },
  {
   "cell_type": "code",
   "execution_count": 5,
   "metadata": {
    "collapsed": false
   },
   "outputs": [],
   "source": [
    "#Reload the 'cleaned_removed_placeholder' csv file into a pandas dataframe again\n",
    "df = pd.read_csv('cleaned_removed_placeholder.csv', encoding='utf8', dtype={'content':'string', 'type':'string'}) #About as slow as clean text 1,5h\n",
    "data_size = len(df.index)\n",
    "pd.DataFrame(columns=['content', 'type']).to_csv(\"cleaned_removed_stop_words.csv\")\n",
    "\n",
    "#Removes the stop words from the articles\n",
    "for i in range(0, data_size):\n",
    "    content_result = remove_stop_words(df.iloc[i]['content'])\n",
    "    type_result = df.iloc[i]['type']\n",
    "\n",
    "    result = {'content':content_result, 'type':type_result}\n",
    "    new_data = pd.DataFrame(result, index=[i])\n",
    "    new_data.to_csv('cleaned_removed_stop_words.csv', mode='a', header=False)"
   ]
  },
  {
   "cell_type": "code",
   "execution_count": null,
   "metadata": {
    "collapsed": false,
    "pycharm": {
     "is_executing": true
    }
   },
   "outputs": [],
   "source": [
    "#Drops duplicates and \\r from columns and types\n",
    "df = pd.read_csv('cleaned_removed_stop_words.csv', encoding='utf8', dtype={'content':'string', 'type':'string'}).dropna(subset=['content'])\n",
    "df.columns = df.columns.str.strip() #Removes unecessary \\r from 'type' column\n",
    "df['type'] = df['type'].replace('\\r', '', regex=True) #Remove unecessary \\r from types\n",
    "df.to_csv('cleaned_removed_stop_words.csv', columns=['content', 'type'])"
   ]
  },
  {
   "cell_type": "code",
   "execution_count": 2,
   "metadata": {
    "collapsed": false
   },
   "outputs": [],
   "source": [
    "#Method to stem words\n",
    "def stemming_words(input_text):\n",
    "    ps = PorterStemmer()\n",
    "\n",
    "    stemmed_words = []\n",
    "\n",
    "    for word in word_tokenize(input_text):\n",
    "        stemmed_words.append(ps.stem(word))\n",
    "\n",
    "    return ' '.join(stemmed_words)"
   ]
  },
  {
   "cell_type": "code",
   "execution_count": 3,
   "metadata": {
    "collapsed": false
   },
   "outputs": [],
   "source": [
    "#Reload the 'cleaned_removed_stop_words' csv file into a pandas dataframe again\n",
    "df = pd.read_csv('cleaned_removed_stop_words.csv', encoding='utf8', dtype={'content':'string', 'type':'string'}) #about as slow as clean text 1,5h\n",
    "data_size = len(df.index)\n",
    "pd.DataFrame(columns=['content', 'type']).to_csv(\"cleaned_stemmed.csv\")\n",
    "\n",
    "#Stems word from articles\n",
    "for i in range(0, data_size):\n",
    "    content_result = stemming_words(df.iloc[i]['content'])\n",
    "    type_result = df.iloc[i]['type']\n",
    "\n",
    "    result = {'content':content_result, 'type':type_result}\n",
    "    new_data = pd.DataFrame(result, index=[i])\n",
    "    new_data.to_csv('cleaned_stemmed.csv', mode='a', header=False)"
   ]
  },
  {
   "cell_type": "code",
   "execution_count": null,
   "metadata": {
    "collapsed": false,
    "pycharm": {
     "is_executing": true
    }
   },
   "outputs": [],
   "source": [
    "#Remove duplicates and \\r\n",
    "df = pd.read_csv('cleaned_stemmed.csv', encoding='utf8', dtype={'content':'string', 'type':'string'}).dropna(subset=['content'])\n",
    "df.columns = df.columns.str.strip() #Removes unecessary \\r from 'type' column\n",
    "df['type'] = df['type'].replace('\\r', '', regex=True) #Remove unecessary \\r from types\n",
    "df.to_csv('cleaned_stemmed.csv', columns=['content', 'type'])"
   ]
  },
  {
   "cell_type": "markdown",
   "source": [
    "Statistics"
   ],
   "metadata": {
    "collapsed": false
   }
  },
  {
   "cell_type": "code",
   "execution_count": 2,
   "metadata": {
    "collapsed": false
   },
   "outputs": [
    {
     "name": "stdout",
     "output_type": "stream",
     "text": [
      "[['<url>', 401860], ['<email>', 4776], ['<phone>', 109366], ['<number>', 10196147], ['<digit>', 2133602], ['<cur>', 0]]\n"
     ]
    }
   ],
   "source": [
    "#Read the final csv file into pandas dataframe and count <url>, <email>... and so on\n",
    "df = pd.read_csv('cleaned_changed_types.csv', encoding='utf8', dtype={'content':'string', 'type':'string'})\n",
    "data_size = len(df.index)\n",
    "\n",
    "placeholder_counter = [['<url>', 0], ['<email>', 0], ['<phone>', 0], ['<number>', 0], ['<digit>', 0], ['<cur>', 0]]\n",
    "\n",
    "for i in range(0, data_size):\n",
    "    current_text = df.iloc[i]['content']\n",
    "    for j in range(0, len(placeholder_counter)-1):\n",
    "        placeholder_counter[j][1] += len(re.findall(placeholder_counter[j][0], current_text))\n",
    "\n",
    "print(placeholder_counter)"
   ]
  },
  {
   "cell_type": "code",
   "execution_count": 3,
   "metadata": {
    "collapsed": false
   },
   "outputs": [
    {
     "name": "stdout",
     "output_type": "stream",
     "text": [
      "Total number of words after cleaning: 512028513\n",
      "Total number of words after removing placeholders: 502279962\n",
      "Total number of words after removing stopwords: 287382920\n",
      "Total number of words after stemming: 287382920\n"
     ]
    }
   ],
   "source": [
    "#Counts total amount of words in the different csv files\n",
    "def total_word_counter(input_text, text_size):\n",
    "    total_counter = 0\n",
    "    for i in range(0, text_size):\n",
    "        total_counter += len(re.findall(' ', input_text.iloc[i]['content']))+1\n",
    "\n",
    "    return total_counter\n",
    "\n",
    "df = pd.read_csv('cleaned_changed_types.csv', encoding='utf8', dtype={'content': 'string', 'type': 'string'}, lineterminator='\\n')\n",
    "data_size = len(df.index)\n",
    "print(\"Total number of words after cleaning:\", total_word_counter(df, data_size))\n",
    "df = pd.read_csv('cleaned_removed_placeholder.csv', encoding='utf8', dtype={'content': 'string', 'type': 'string'}, lineterminator='\\n')\n",
    "data_size = len(df.index)\n",
    "print(\"Total number of words after removing placeholders:\", total_word_counter(df, data_size))\n",
    "df = pd.read_csv('cleaned_removed_stop_words.csv', encoding='utf8', dtype={'content': 'string', 'type': 'string'}, lineterminator='\\n')\n",
    "data_size = len(df.index)\n",
    "print(\"Total number of words after removing stopwords:\", total_word_counter(df, data_size))\n",
    "df = pd.read_csv('cleaned_stemmed.csv', encoding='utf8', dtype={'content': 'string', 'type': 'string'}, lineterminator='\\n')\n",
    "data_size = len(df.index)\n",
    "print(\"Total number of words after stemming:\", total_word_counter(df, data_size))"
   ]
  },
  {
   "cell_type": "code",
   "execution_count": 4,
   "metadata": {
    "collapsed": false
   },
   "outputs": [
    {
     "name": "stdout",
     "output_type": "stream",
     "text": [
      "political     271131\n",
      "rumor         138543\n",
      "bias          136809\n",
      "fake          120177\n",
      "conspiracy    107713\n",
      "hate           42968\n",
      "unreliable     39067\n",
      "satire         28572\n",
      "clickbait      23724\n",
      "junksci        17665\n",
      "reliable        5887\n",
      "Name: type, dtype: Int64\n"
     ]
    }
   ],
   "source": [
    "#Counts amount of different types\n",
    "df = pd.read_csv('content_type_data.csv', encoding='utf8', dtype={'content':'string', 'type':'string'})\n",
    "type_list = df['type'].value_counts(dropna=True)\n",
    "print(type_list)"
   ]
  },
  {
   "cell_type": "code",
   "execution_count": 5,
   "outputs": [
    {
     "data": {
      "text/plain": "<Figure size 640x480 with 1 Axes>",
      "image/png": "[encoded data removed]"
     },
     "metadata": {},
     "output_type": "display_data"
    }
   ],
   "source": [
    "#plottting amount of different types\n",
    "d = dict(type_list)\n",
    "\n",
    "name_list = list(d.keys())\n",
    "name_values = list(d.values())\n",
    "\n",
    "fig = plt.figure()\n",
    "ax = fig.add_axes([0,0,2,1])\n",
    "ax.bar(list(name_list), list(name_values))\n",
    "plt.show()"
   ],
   "metadata": {
    "collapsed": false
   }
  },
  {
   "cell_type": "code",
   "execution_count": 7,
   "outputs": [
    {
     "name": "stdout",
     "output_type": "stream",
     "text": [
      "fake        629015\n",
      "reliable    300741\n",
      "Name: type, dtype: Int64\n",
      "929756\n"
     ]
    }
   ],
   "source": [
    "#Counts amount of fake and reliable types\n",
    "df = pd.read_csv('cleaned_stemmed.csv', encoding='utf8', dtype={'content':'string', 'type':'string'})\n",
    "type_list = df['type'].value_counts(dropna=True)\n",
    "print(type_list)\n",
    "print(len(df.index))"
   ],
   "metadata": {
    "collapsed": false
   }
  },
  {
   "cell_type": "code",
   "execution_count": 8,
   "metadata": {
    "collapsed": false
   },
   "outputs": [
    {
     "name": "stdout",
     "output_type": "stream",
     "text": [
      "[('the', 3620849), ('of', 1765584), ('to', 1747743), ('>', 1655530), ('<', 1648730), ('and', 1647538), ('a', 1293775), ('number', 1256726), ('in', 1177566), ('that', 809503), ('is', 777258), ('for', 599681), ('on', 480356), ('it', 444577), ('as', 402569), ('are', 399380), ('this', 393315), ('with', 390280), ('by', 328304), ('be', 327366), ('was', 323325), ('i', 314127), ('have', 294932), ('you', 291949), ('not', 291324), ('from', 275379), ('at', 263406), ('digit', 240903), ('he', 233062), ('they', 230941), ('we', 229491), ('but', 226207), ('has', 225617), ('or', 223807), ('an', 217466), ('his', 200019), ('will', 197488), ('their', 190004), ('all', 181030), ('its', 174714), ('who', 173780), ('more', 165041), ('about', 161656), ('us', 161195), ('one', 157972), ('can', 147928), ('if', 147790), ('what', 141692), ('were', 138496), ('so', 135376), ('our', 134629), ('which', 133456), ('would', 133415), ('been', 130153), ('people', 129191), ('your', 128260), ('out', 126080), ('trump', 125254), ('when', 122128), ('there', 119064), ('up', 115383), ('no', 113832), ('new', 108284), ('had', 107948), ('said', 107708), ('do', 100563), ('url', 100522), ('also', 98552), ('than', 97575), ('like', 96937), ('time', 96761), ('my', 96665), ('other', 96581), ('just', 94959), ('some', 92641), ('them', 92106), ('now', 88912), ('into', 88866), ('these', 88005), ('over', 86570), ('how', 81151), ('only', 80447), ('blockchain', 79819), ('after', 79063), ('even', 78542), ('two', 78315), ('most', 76390), ('any', 75982), ('state', 75351), ('president', 74532), ('because', 74112), ('many', 73412), ('her', 72660), ('first', 71574), ('years', 70321), ('those', 69145), ('government', 67921), ('next', 67431), ('could', 67105), ('world', 65517)]\n"
     ]
    }
   ],
   "source": [
    "#Counting words before stop and stem\n",
    "data_size = 100000\n",
    "df = pd.read_csv('cleaned_changed_types.csv', encoding='utf8', nrows=data_size, dtype={'content':'string', 'type':'string'})\n",
    "\n",
    "counts = dict()\n",
    "for i in range(0, data_size-1):\n",
    "    words = word_tokenize(df.iloc[i]['content'])\n",
    "\n",
    "    for word in words:\n",
    "        if word in counts:\n",
    "            counts[word] += 1\n",
    "        else:\n",
    "            counts[word] = 1\n",
    "\n",
    "sorted_list= sorted(counts.items(), key=operator.itemgetter(1), reverse=True)\n",
    "print(sorted_list[0:100])"
   ]
  },
  {
   "cell_type": "code",
   "execution_count": 9,
   "metadata": {
    "collapsed": false
   },
   "outputs": [
    {
     "name": "stdout",
     "output_type": "stream",
     "text": [
      "[('one', 168240), ('us', 161215), ('state', 148568), ('trump', 145098), ('peopl', 134932), ('year', 133840), ('would', 133444), ('time', 129654), ('like', 119956), ('new', 108326), ('said', 107733), ('use', 99572), ('also', 98566), ('report', 92849), ('make', 91494), ('get', 88026), ('presid', 86668), ('american', 84879), ('even', 83001), ('go', 82130), ('say', 81477), ('govern', 81401), ('blockchain', 79856), ('right', 79438), ('two', 78339), ('nation', 73582), ('work', 73581), ('mani', 73446), ('world', 72714), ('day', 72190), ('first', 71610), ('think', 70712), ('next', 67439), ('could', 67116), ('take', 66194), ('know', 65241), ('may', 64646), ('way', 64545), ('come', 64034), ('need', 64020), ('obama', 63957), ('call', 63297), ('well', 62926), ('see', 61797), ('market', 60989), ('want', 60274), ('countri', 56945), ('democrat', 56517), ('includ', 55471), ('support', 54652), ('republican', 54507), ('back', 53512), ('thing', 53113), ('news', 53071), ('last', 53035), ('polit', 52951), ('fact', 52668), ('law', 52429), ('dont', 52170), ('unit', 51671), ('sourc', 51619), ('hous', 51598), ('much', 51562), ('stock', 51243), ('war', 50736), ('live', 50459), ('help', 48576), ('look', 48546), ('power', 47805), ('search', 47204), ('stori', 47151), ('good', 47076), ('talk', 46264), ('america', 45884), ('public', 45750), ('show', 45220), ('elect', 45018), ('bitcoin', 44017), ('made', 44012), ('headlin', 43688), ('group', 43369), ('chang', 43319), ('life', 43103), ('continu', 42838), ('vote', 42698), ('follow', 42064), ('point', 41530), ('end', 41405), ('part', 41181), ('post', 41024), ('exceed', 41012), ('gener', 40701), ('read', 40390), ('person', 40335), ('sinc', 40150), ('parti', 39986), ('plan', 39979), ('forc', 39676), ('million', 39501), ('long', 39482)]\n"
     ]
    }
   ],
   "source": [
    "#Counting words after stop and stem\n",
    "data_size = 100000\n",
    "df = pd.read_csv('cleaned_stemmed.csv', encoding='utf8', nrows=data_size, dtype={'content':'string', 'type':'string'})\n",
    "\n",
    "\n",
    "counts = dict()\n",
    "for i in range(0, data_size-1):\n",
    "    words = word_tokenize(df.iloc[i]['content'])\n",
    "\n",
    "    for word in words:\n",
    "        if word in counts:\n",
    "            counts[word] += 1\n",
    "        else:\n",
    "            counts[word] = 1\n",
    "\n",
    "sorted_list= sorted(counts.items(), key=operator.itemgetter(1), reverse=True)\n",
    "print(sorted_list[0:100])"
   ]
  },
  {
   "cell_type": "code",
   "execution_count": 4,
   "metadata": {
    "collapsed": false
   },
   "outputs": [
    {
     "name": "stdout",
     "output_type": "stream",
     "text": [
      "headers:  ['Unnamed: 0' 'id' 'domain' 'type' 'url' 'content' 'scraped_at'\n",
      " 'inserted_at' 'updated_at' 'title' 'authors' 'keywords' 'meta_keywords'\n",
      " 'meta_description' 'tags' 'summary' 'source']\n",
      "amount of headers:  17\n"
     ]
    }
   ],
   "source": [
    "df = pd.read_csv('news_cleaned_2018_02_13.csv', nrows=0, encoding='utf8')\n",
    "print(\"headers: \", df.columns.values)\n",
    "print(\"amount of headers: \", len(df.columns.values))"
   ]
  },
  {
   "cell_type": "code",
   "execution_count": 3,
   "metadata": {
    "collapsed": false
   },
   "outputs": [
    {
     "name": "stdout",
     "output_type": "stream",
     "text": [
      "Number of NAN in colum Unnamed: 0 : 0\n",
      "Number of NAN in colum id : 0\n",
      "Number of NAN in colum domain : 0\n",
      "Number of NAN in colum type : 169748\n",
      "Number of NAN in colum url : 0\n",
      "Number of NAN in colum content : 0\n",
      "Number of NAN in colum scraped_at : 0\n",
      "Number of NAN in colum inserted_at : 0\n",
      "Number of NAN in colum updated_at : 0\n",
      "Number of NAN in colum title : 15678\n",
      "Number of NAN in colum authors : 703210\n",
      "Number of NAN in colum keywords : 1600000\n",
      "Number of NAN in colum meta_keywords : 0\n",
      "Number of NAN in colum meta_description : 948698\n",
      "Number of NAN in colum tags : 963113\n",
      "Number of NAN in colum summary : 1600000\n",
      "Number of NAN in colum source : 1600000\n"
     ]
    }
   ],
   "source": [
    "df = pd.read_csv('news_cleaned_2018_02_13.csv', nrows=1_600_000, encoding='utf8', dtype={'Unnamed: 0': 'string', 'id': 'string', 'domain': 'string', 'type': 'string', 'url': 'string', 'content': 'string', 'scraped_at': 'string', 'inserted_at': 'string', 'updated_at': 'string', 'title': 'string', 'authors': 'string', 'keywords': 'string', 'meta_keywords': 'string','meta_description': 'string', 'tags': 'string', 'summary': 'string', 'source': 'string',}, lineterminator='\\n')\n",
    "\n",
    "colum_names = df.columns.values\n",
    "for i in range(0, len(colum_names)):\n",
    "    nan_count = df[str(colum_names[i])].isna().sum()\n",
    "    print(\"Number of NAN in colum \" + str(colum_names[i]) + \":\", nan_count)"
   ]
  },
  {
   "attachments": {},
   "cell_type": "markdown",
   "metadata": {},
   "source": [
    "Prediction modelling"
   ]
  },
  {
   "cell_type": "code",
   "execution_count": 2,
   "metadata": {
    "collapsed": false
   },
   "outputs": [],
   "source": [
    "#Read the 'cleaned_stemmed' into a pandas dataframe, and remove unecessary \\r that may have come with\n",
    "df = pd.read_csv('cleaned_stemmed.csv', encoding='utf8', lineterminator='\\n', dtype={'content':'string', 'type':'string'})\n",
    "df.columns = df.columns.str.strip() #Remove unecessary \\r\n",
    "df['type'] = df['type'].replace('\\r', '', regex=True) #Remove unecessary r from types"
   ]
  },
  {
   "cell_type": "code",
   "execution_count": 3,
   "metadata": {},
   "outputs": [],
   "source": [
    "#Method to convert text to numeric, so we can fit this into our data using TF-IDF Weights\n",
    "X = df['content']\n",
    "\n",
    "y = df['type']\n",
    "encoder = LabelEncoder() #Good for binary use, and sets fake as 0 and reliable as 1\n",
    "y = encoder.fit_transform(y)\n",
    "\n",
    "#Split the training, validation and test data into 80%/10%/10% and stratify to be more balanced\n",
    "X_train, X_test, y_train, y_test = train_test_split(X, y, train_size=0.8, test_size=0.2, random_state=0, stratify=y)\n",
    "X_test, X_val, y_test, y_val = train_test_split(X_test, y_test, test_size=0.5, random_state=0, stratify=y_test)\n",
    "\n",
    "#Create TF-IDF converter object\n",
    "vectorizer = TfidfVectorizer()\n",
    "\n",
    "#Fit transform on the training data\n",
    "X_train = vectorizer.fit_transform(X_train)\n",
    "\n",
    "#Only transform on the validation and test data\n",
    "X_val = vectorizer.transform(X_val)\n",
    "\n",
    "X_test = vectorizer.transform(X_test)"
   ]
  },
  {
   "cell_type": "code",
   "execution_count": 4,
   "metadata": {},
   "outputs": [
    {
     "name": "stdout",
     "output_type": "stream",
     "text": [
      "Test accuracy score for DS: 0.8025511960075719\n",
      "Train accuracy score for DS: 0.8172717543869084\n",
      "Val accuracy score for DS: 0.8026479951815523\n",
      "Test MSE for DS: 0.19744880399242815\n",
      "F1-score for DS: 0.7964669227135054\n"
     ]
    }
   ],
   "source": [
    "#Baseline model, create Decision Tree (this has been hyperparameter optimised!)\n",
    "ds = DecisionTreeClassifier(min_samples_split = 2, min_samples_leaf = 1, max_features = None, max_depth= 20, criterion= 'gini')\n",
    "\n",
    "#Fit the training data on the Decision tree\n",
    "ds.fit(X_train, y_train)\n",
    "\n",
    "#Create predictions on training, testing and validation\n",
    "y_pred_ds_test = ds.predict(X_test)\n",
    "y_pred_ds_train = ds.predict(X_train)\n",
    "y_pred_ds_val = ds.predict(X_val)\n",
    "\n",
    "#Print the accuracy as well as MSE\n",
    "print(\"Test accuracy score for DS:\", accuracy_score(y_test, y_pred_ds_test))\n",
    "print(\"Train accuracy score for DS:\", accuracy_score(y_train, y_pred_ds_train))\n",
    "print(\"Val accuracy score for DS:\", accuracy_score(y_val, y_pred_ds_val))\n",
    "print(\"Test MSE for DS:\", mean_squared_error(y_test, y_pred_ds_test))\n",
    "print(\"F1-score for DS:\", f1_score(y_test, y_pred_ds_test, average=\"weighted\"))\n",
    "\n",
    "#-------------------------------------------------------------------------------------------------------------------------------------------------------------------------------#\n",
    "#The hyperparameter setup, outcommented as it isn't necessary anymore\n",
    "\n",
    "# param_grid_tree = {\n",
    "#     'criterion': ['gini', 'entropy'],\n",
    "#     'max_depth': [None, 5, 10, 20],\n",
    "#     'min_samples_split': [2, 5, 10],\n",
    "#     'min_samples_leaf': [1, 2, 4],\n",
    "#     'max_features': ['sqrt', 'log2', None]\n",
    "# }\n",
    "\n",
    "# best_tree = RandomizedSearchCV(estimator=ds, param_distributions=param_grid_tree, n_iter=10, cv=5, scoring='accuracy', random_state = 0)\n",
    "\n",
    "# best_tree.fit(X_train, y_train)\n",
    "\n",
    "# print('Best Params', best_tree.best_params_)\n",
    "# print('Best Score:', best_tree.best_score_)"
   ]
  },
  {
   "cell_type": "code",
   "execution_count": 5,
   "outputs": [
    {
     "name": "stdout",
     "output_type": "stream",
     "text": [
      "Test accuracy score for LogR: 0.8701385303734297\n",
      "Train accuracy score for LogR: 0.8862428811891304\n",
      "Val accuracy score for LogR: 0.8702138186198589\n",
      "Test MSE for LogR: 0.1298614696265703\n",
      "F1-score for LogR: 0.8689121628754988\n"
     ]
    }
   ],
   "source": [
    "#Baseline model, create Logistic Regression (which has not been hyperparameter optimised!)\n",
    "logr = LogisticRegression(max_iter=1000, random_state=0)\n",
    "\n",
    "#Fit the training data on LogR\n",
    "logr.fit(X_train, y_train)\n",
    "\n",
    "#Create predictions on training, testing and validation\n",
    "y_pred_logr_test = logr.predict(X_test)\n",
    "y_pred_logr_train = logr.predict(X_train)\n",
    "y_pred_logr_val = logr.predict(X_val)\n",
    "\n",
    "# evaluate the model using accuracy score\n",
    "print(\"Test accuracy score for LogR:\", accuracy_score(y_test, y_pred_logr_test))\n",
    "print(\"Train accuracy score for LogR:\", accuracy_score(y_train, y_pred_logr_train ))\n",
    "print(\"Val accuracy score for LogR:\", accuracy_score(y_val, y_pred_logr_val))\n",
    "print(\"Test MSE for LogR:\", mean_squared_error(y_test, y_pred_logr_test))\n",
    "print(\"F1-score for LogR:\", f1_score(y_test, y_pred_logr_test, average=\"weighted\"))"
   ],
   "metadata": {
    "collapsed": false
   }
  },
  {
   "cell_type": "code",
   "execution_count": 6,
   "metadata": {},
   "outputs": [
    {
     "name": "stdout",
     "output_type": "stream",
     "text": [
      "Test accuracy score for MNB: 0.7802120977456548\n",
      "Train accuracy score for MNB: 0.7879602691031509\n",
      "Val accuracy score for MNB: 0.7792871278609533\n",
      "Test MSE for MNB: 0.21978790225434522\n",
      "F1-score for MNB: 0.7498962804607276\n"
     ]
    }
   ],
   "source": [
    "#Create Multinomial Naive Bayes (which has not been hyperparameter optimised!)\n",
    "mnb = MultinomialNB()\n",
    "\n",
    "#Fit the training data on MNB\n",
    "mnb.fit(X_train, y_train)\n",
    "\n",
    "#Create predictions on training, testing and validation\n",
    "y_pred_mnb_test = mnb.predict(X_test)\n",
    "y_pred_mnb_train = mnb.predict(X_train)\n",
    "y_pred_mnb_val = mnb.predict(X_val)\n",
    "\n",
    "#Print the accuracy as well as MSE\n",
    "print(\"Test accuracy score for MNB:\", accuracy_score(y_test, y_pred_mnb_test))\n",
    "print(\"Train accuracy score for MNB:\", accuracy_score(y_train, y_pred_mnb_train ))\n",
    "print(\"Val accuracy score for MNB:\", accuracy_score(y_val, y_pred_mnb_val))\n",
    "print(\"Test MSE for MNB:\", mean_squared_error(y_test, y_pred_mnb_test))\n",
    "print(\"F1-score for MNB:\", f1_score(y_test, y_pred_mnb_test, average=\"weighted\"))"
   ]
  },
  {
   "cell_type": "code",
   "execution_count": 7,
   "metadata": {},
   "outputs": [
    {
     "name": "stdout",
     "output_type": "stream",
     "text": [
      "Test accuracy score for BNB: 0.7442673378076062\n",
      "Train accuracy score for BNB: 0.7501384773408049\n",
      "Val accuracy score for BNB: 0.7428153501979006\n",
      "Test MSE for BNB: 0.2557326621923937\n",
      "F1-score for BNB: 0.7434000037171719\n"
     ]
    }
   ],
   "source": [
    "#Create Bernoulli Naive Bayes (which has not been hyperparameter optimised!)\n",
    "bnb = BernoulliNB()\n",
    "\n",
    "#Fit the training data on BNB\n",
    "bnb.fit(X_train, y_train)\n",
    "\n",
    "#Create predictions on training, testing and validation\n",
    "y_pred_bnb_test = bnb.predict(X_test)\n",
    "y_pred_bnb_train = bnb.predict(X_train)\n",
    "y_pred_bnb_val = bnb.predict(X_val)\n",
    "\n",
    "#Print the accuracy as well as MSE\n",
    "print(\"Test accuracy score for BNB:\", accuracy_score(y_test, y_pred_bnb_test))\n",
    "print(\"Train accuracy score for BNB:\", accuracy_score(y_train, y_pred_bnb_train))\n",
    "print(\"Val accuracy score for BNB:\", accuracy_score(y_val, y_pred_bnb_val))\n",
    "print(\"Test MSE for BNB:\", mean_squared_error(y_test, y_pred_bnb_test))\n",
    "print(\"F1-score for BNB:\", f1_score(y_test, y_pred_bnb_test, average=\"weighted\"))"
   ]
  },
  {
   "cell_type": "code",
   "execution_count": 8,
   "metadata": {},
   "outputs": [
    {
     "name": "stdout",
     "output_type": "stream",
     "text": [
      "Test accuracy score for SGD: 0.8196738943383238\n",
      "Train accuracy score for SGD: 0.8207269657060193\n",
      "Val accuracy score for SGD: 0.8198352262949579\n",
      "Test MSE for SGD: 0.18032610566167614\n",
      "F1-score for SGD: 0.8093690250523211\n"
     ]
    }
   ],
   "source": [
    "#Create Stochatic Gradient Descent (which has not been hyperparameter optimised!)\n",
    "sgd = SGDClassifier(random_state=0)\n",
    "\n",
    "#Fit the training data on SGD\n",
    "sgd.fit(X_train, y_train)\n",
    "\n",
    "#Create predictions on training, testing and validation\n",
    "y_pred_sgd_test = sgd.predict(X_test)\n",
    "y_pred_sgd_train = sgd.predict(X_train)\n",
    "y_pred_sgd_val = sgd.predict(X_val)\n",
    "\n",
    "#Print the accuracy as well as MSE\n",
    "print(\"Test accuracy score for SGD:\", accuracy_score(y_test, y_pred_sgd_test))\n",
    "print(\"Train accuracy score for SGD:\", accuracy_score(y_train, y_pred_sgd_train))\n",
    "print(\"Val accuracy score for SGD:\", accuracy_score(y_val, y_pred_sgd_val))\n",
    "print(\"Test MSE for SGD:\", mean_squared_error(y_test, y_pred_sgd_test))\n",
    "print(\"F1-score for SGD:\", f1_score(y_test, y_pred_sgd_test, average=\"weighted\"))"
   ]
  },
  {
   "cell_type": "code",
   "execution_count": 23,
   "metadata": {},
   "outputs": [
    {
     "name": "stdout",
     "output_type": "stream",
     "text": [
      "Test accuracy score for PAC: 0.8774845121321632\n",
      "Train accuracy score for PAC: 0.9153782448064275\n",
      "Val accuracy score for PAC: 0.8762153674066425\n",
      "Test MSE for PAC: 0.12251548786783686\n",
      "F1-score for PAC: 0.8770734997830381\n"
     ]
    }
   ],
   "source": [
    "#Create PassiveAggressive (which has not been hyperparameter optimised!)\n",
    "pac = PassiveAggressiveClassifier(random_state=0, C = 0.01, max_iter = 1000, shuffle=True, loss='squared_hinge', tol = 1e-3)\n",
    "\n",
    "#Fit the training data on PAC\n",
    "pac.fit(X_train, y_train)\n",
    "\n",
    "#Create predictions on training, testing and validation\n",
    "y_pred_pac_test = pac.predict(X_test)\n",
    "y_pred_pac_train = pac.predict(X_train)\n",
    "y_pred_pac_val = pac.predict(X_val)\n",
    "\n",
    "#Print the accuracy as well as MSE\n",
    "print(\"Test accuracy score for PAC:\", accuracy_score(y_test, y_pred_pac_test))\n",
    "print(\"Train accuracy score for PAC:\", accuracy_score(y_train, y_pred_pac_train))\n",
    "print(\"Val accuracy score for PAC:\", accuracy_score(y_val, y_pred_pac_val))\n",
    "print(\"Test MSE for PAC:\", mean_squared_error(y_test, y_pred_pac_test))\n",
    "print(\"F1-score for PAC:\", f1_score(y_test, y_pred_pac_test, average=\"weighted\"))"
   ]
  },
  {
   "cell_type": "code",
   "execution_count": 32,
   "outputs": [
    {
     "data": {
      "text/plain": "<Figure size 640x480 with 2 Axes>",
      "image/png": "[encoded data removed]"
     },
     "metadata": {},
     "output_type": "display_data"
    }
   ],
   "source": [
    "confusion_matrix = metrics.confusion_matrix(y_test, y_pred_pac_test)\n",
    "\n",
    "cm_display = metrics.ConfusionMatrixDisplay(confusion_matrix = confusion_matrix)\n",
    "\n",
    "cm_display.plot()\n",
    "plt.show()"
   ],
   "metadata": {
    "collapsed": false
   }
  },
  {
   "cell_type": "code",
   "execution_count": 12,
   "outputs": [
    {
     "name": "stdout",
     "output_type": "stream",
     "text": [
      "Test accuracy score for LSVM: 0.8785815694372742\n",
      "Train accuracy score for LSVM: 0.9232647310312931\n",
      "Val accuracy score for LSVM: 0.8764412321459302\n",
      "Test MSE for LSVM: 0.12141843056272586\n",
      "F1-score for LSVM: 0.878226517074656\n"
     ]
    }
   ],
   "source": [
    "#Create LSVM model (Which has been hyperparameter optimised!)\n",
    "linear_svm = LinearSVC()\n",
    "\n",
    "#Fit the training data on LSVM\n",
    "linear_svm.fit(X_train, y_train)\n",
    "\n",
    "#Create predictions on training, testing and validation\n",
    "y_pred_svm_test = linear_svm.predict(X_test)\n",
    "y_pred_svm_train = linear_svm.predict(X_train)\n",
    "y_pred_svm_val = linear_svm.predict(X_val)\n",
    "\n",
    "#Print the accuracy as well as MSE\n",
    "print(\"Test accuracy score for LSVM:\", accuracy_score(y_test, y_pred_svm_test))\n",
    "print(\"Train accuracy score for LSVM:\", accuracy_score(y_train, y_pred_svm_train))\n",
    "print(\"Val accuracy score for LSVM:\", accuracy_score(y_val, y_pred_svm_val))\n",
    "print(\"Test MSE for LSVM:\", mean_squared_error(y_test, y_pred_svm_test))\n",
    "print(\"F1-score for LSVM:\", f1_score(y_test, y_pred_svm_test, average=\"weighted\"))\n"
   ],
   "metadata": {
    "collapsed": false
   }
  },
  {
   "attachments": {},
   "cell_type": "markdown",
   "metadata": {},
   "source": [
    "Below is code to check the accuracy and f1 score of our baseline and advanced models on the LIAR Dataset"
   ]
  },
  {
   "cell_type": "code",
   "execution_count": 30,
   "metadata": {},
   "outputs": [
    {
     "name": "stdout",
     "output_type": "stream",
     "text": [
      "Accuracy score for PAC 0.430939226519337\n",
      "F1-score for PAC 0.28859442597320467\n"
     ]
    }
   ],
   "source": [
    "#Loading the LIAR dataset using pandas\n",
    "df_liar = pd.read_csv('test.tsv', delimiter='\\t', header=None)\n",
    "\n",
    "#Content is in column 2, so we extract that and do some preprocessing using TF-IDF weights\n",
    "X_liar = df_liar[2]\n",
    "vectorizer_liar = TfidfVectorizer()\n",
    "X_liar = vectorizer.transform(X_liar)\n",
    "\n",
    "#Labels is in column 1, and we map each label to either 0 or 1, depending on\n",
    "#If that label is false or true respectively\n",
    "y_liar = df_liar[1].map({'false': 0, 'pants-fire': 0, 'barely-true': 0, 'half-true': 1, 'mostly-true': 1, 'true': 1})\n",
    "\n",
    "#y_pred_liar_tree = ds.predict(X_liar) #Prediction on the baseline model, decisiontree\n",
    "#y_pred_liar_logr = logr.predict(X_liar)\n",
    "#y_pred_liar_LSVM = linear_svm.predict(X_liar)\n",
    "#y_pred_liar_SGD = sgd.predict(X_liar)\n",
    "y_pred_liar_PAC = pac.predict(X_liar)\n",
    "#y_pred_liar_MNB = mnb.predict(X_liar)\n",
    "#y_pred_liar_BNB = bnb.predict(X_liar)\n",
    "\n",
    "#First we get the accuracy using accuracy score\n",
    "#print(\"Accuracy score for DT\", accuracy_score(y_liar, y_pred_liar_tree))\n",
    "#print(\"Accuracy score for LogR\", accuracy_score(y_liar, y_pred_liar_logr))\n",
    "#print(\"Accuracy score for SGD\", accuracy_score(y_liar, y_pred_liar_SGD))\n",
    "print(\"Accuracy score for PAC\", accuracy_score(y_liar, y_pred_liar_PAC))\n",
    "#print(\"Accuracy score for MNB\", accuracy_score(y_liar, y_pred_liar_MNB))\n",
    "#print(\"Accuracy score for BNB\", accuracy_score(y_liar, y_pred_liar_BNB))\n",
    "#print(\"Accuracy score for LSVM\", accuracy_score(y_liar, y_pred_liar_LSVM))\n",
    "\n",
    "#And then we get the F1-score\n",
    "#print(\"F1-score for DT\", f1_score(y_liar, y_pred_liar_tree, average='weighted'))\n",
    "#print(\"F1-score for LogR\", f1_score(y_liar, y_pred_liar_logr, average='weighted'))\n",
    "#print(\"F1-score for SGD\", f1_score(y_liar, y_pred_liar_SGD, average='weighted'))\n",
    "print(\"F1-score for PAC\", f1_score(y_liar, y_pred_liar_PAC, average='weighted'))\n",
    "#print(\"F1-score for MNB\", f1_score(y_liar, y_pred_liar_MNB, average='weighted'))\n",
    "#print(\"F1-score for BNB\", f1_score(y_liar, y_pred_liar_BNB, average='weighted'))\n",
    "#print(\"F1-score for LSVM\", f1_score(y_liar, y_pred_liar_LSVM, average='weighted'))"
   ]
  },
  {
   "cell_type": "code",
   "execution_count": 31,
   "outputs": [
    {
     "data": {
      "text/plain": "<Figure size 640x480 with 2 Axes>",
      "image/png": "[encoded data removed]"
     },
     "metadata": {},
     "output_type": "display_data"
    }
   ],
   "source": [
    "confusion_matrix = metrics.confusion_matrix(y_liar, y_pred_liar_PAC)\n",
    "\n",
    "cm_display = metrics.ConfusionMatrixDisplay(confusion_matrix = confusion_matrix)\n",
    "\n",
    "cm_display.plot()\n",
    "plt.show()"
   ],
   "metadata": {
    "collapsed": false
   }
  },
  {
   "cell_type": "code",
   "execution_count": null,
   "outputs": [],
   "source": [],
   "metadata": {
    "collapsed": false
   }
  }
 ],
 "metadata": {
  "kernelspec": {
   "display_name": "Python 3",
   "language": "python",
   "name": "python3"
  },
  "language_info": {
   "codemirror_mode": {
    "name": "ipython",
    "version": 3
   },
   "file_extension": ".py",
   "mimetype": "text/x-python",
   "name": "python",
   "nbconvert_exporter": "python",
   "pygments_lexer": "ipython3",
   "version": "3.11.0"
  }
 },
 "nbformat": 4,
 "nbformat_minor": 0
}
